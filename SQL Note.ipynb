{
 "cells": [
  {
   "cell_type": "code",
   "execution_count": null,
   "metadata": {},
   "outputs": [],
   "source": [
    "# 175 Combine two tables\n",
    "SELECT Person.FirstName, Person.LastName, Address.City, Address.State\n",
    "FROM Person LEFT JOIN Address\n",
    "ON Person.PersonId = Address.PersonID;"
   ]
  },
  {
   "cell_type": "code",
   "execution_count": null,
   "metadata": {},
   "outputs": [],
   "source": [
    "# 176 Second Highest Salary\n",
    "SELECT MAX(Salary)\n",
    "FROM Employee\n",
    "WHERE Salary < (SELECT Max(Salary) FROM Employee);"
   ]
  },
  {
   "cell_type": "code",
   "execution_count": null,
   "metadata": {},
   "outputs": [],
   "source": [
    "# 177 Nth Highest Salary\n",
    "CREAT FUNCTION getNthHighestSalary(N INT) RETURN INT\n",
    "BEGIN \n",
    "    RETURN (\n",
    "            # Write your MySQL query statement below.\n",
    "            SELECT DISTINCT e1.Salary\n",
    "            FROM Employee e1\n",
    "            WHERE N - 1 = (\n",
    "                            SELECT DISTINCT COUNT(e2.Salary) \n",
    "                            FROM Employee e2\n",
    "                            WHERE e1.Salary < e2.Salary) \n",
    "    );\n",
    "END\n",
    "\n",
    "# Answer 2\n",
    "CREAT FUNCTION getNthHighestSalary(N INT) RETURN INT\n",
    "BEGIN \n",
    "DECLEAR M INT;\n",
    "SET M = N - 1;\n",
    "    RETURN (\n",
    "            # Write your MySQL query statement below.\n",
    "            SELECT DISTINCT Salary\n",
    "            FROM Employee\n",
    "            ORDER BY Salary LIMIT M, 1\n",
    "    );\n",
    "END"
   ]
  },
  {
   "cell_type": "code",
   "execution_count": null,
   "metadata": {},
   "outputs": [],
   "source": [
    "# 603 Consecutive Available Seats\n",
    "SELECT DISTINCT c1.seat_id \n",
    "FROM cinema c1 left join cinema c2\n",
    "ON abs(c1.seat_id - c2.seat_id) = 1\n",
    "AND c1.free = TRUE AND c2.free = TRUE\n",
    "ORDER BY c1.seat_id;\n",
    "\n",
    "# Answer 2\n",
    "SELECT c1.seat_id FROM cinema c1\n",
    "WHERE c1.free = 1\n",
    "AND\n",
    "(\n",
    "c1.seat_id + 1 IN (SELECT seat_id FROM cinema WHERE free = 1)\n",
    "OR\n",
    "c1.seat_id - 1 IN (SELECT seat_id FROM cinema WHERE free = 1)\n",
    ")\n",
    "ORDER BY c1.seat_id;\n"
   ]
  },
  {
   "cell_type": "code",
   "execution_count": null,
   "metadata": {},
   "outputs": [],
   "source": [
    "# 178 Rank Scores\n",
    "\n",
    "SELECT \n",
    "    Score,\n",
    "    (SELECT count(distinct Score) FROM Scores WHERE Score >= s.Score) Rank\n",
    "FROM Score s\n",
    "ORDER BY Score DESC;"
   ]
  },
  {
   "cell_type": "code",
   "execution_count": null,
   "metadata": {},
   "outputs": [],
   "source": [
    "# 579 Find Cumulative Salary of an Employee\n",
    "\n",
    "SELECT A.Id, MAX(B.Month) as Month, SUM(B.Salary) as Salary\n",
    "FROM Employee A, Employee B\n",
    "WHERE A.Id = B.Id AND B.Month BETWEEN (A.Month - 3) AND (A.Month - 1)\n",
    "GROUP BY A.Id, A.Month\n",
    "ORDER BY Id, Month DESC;"
   ]
  },
  {
   "cell_type": "code",
   "execution_count": null,
   "metadata": {},
   "outputs": [],
   "source": [
    "# 608 Tree Node\n",
    "SELECT T.id,\n",
    "IF (isnall(T.p_id),'Root', IF(T.id in (SELECT p_id FROM tree), 'Inner', 'Leaf')) Type\n",
    "FROM tree T;"
   ]
  },
  {
   "cell_type": "code",
   "execution_count": null,
   "metadata": {},
   "outputs": [],
   "source": [
    "# 610 Triangle Judgement\n",
    "SELECT x,y,z,\n",
    "CASE WHEN x+y<z OR\n",
    "          x+z<y OR\n",
    "          Y+Z<x\n",
    "     Then 'No'\n",
    "     ELSE 'Yes'\n",
    "END AS 'triangle'\n",
    "FROM triangle;"
   ]
  },
  {
   "cell_type": "code",
   "execution_count": null,
   "metadata": {},
   "outputs": [],
   "source": [
    "# 180 Consecutive Numbers\n",
    "SELECT DISTINCT l1.Num AS ConsecutiveNums FROM Logs l1, Logs l2, Logs l3\n",
    "WHERE l1.Id = l2.Id-1 AND l2.Id = l3.Id-1\n",
    "AND l1.Num = l2.Num AND l2.Num = l3.Num;\n",
    "\n",
    "# 2nd Solution \n",
    "SELECT T.Num AS ConsecutiveNums\n",
    "FROM \n",
    "(SELECT DISTINCT A.Num FROM Logs A\n",
    "LEFT JOIN Logs B on A.Id = B.Id-1\n",
    "LEFT JOIN Logs C on A.Id = C.Id-2\n",
    "WHERE A.Num = B.Num AND A.Num = C.Num) T;\n",
    "\n",
    "# 3rd Solution\n",
    "SELECT DISTINCT l1.Num \n",
    "FROM Logs l1 left join Logs l2\n",
    "ON abs(l1.Id - l2.Id) = 1\n",
    "AND l1.Num = l2.Num\n",
    "ORDER BY c1.seat_id;\n"
   ]
  },
  {
   "cell_type": "code",
   "execution_count": null,
   "metadata": {},
   "outputs": [],
   "source": [
    "# 181 Employees Earning more than Their Managers\n",
    "SELECT e.Name AS Employee\n",
    "FROM Employee e, Employee m\n",
    "WHERE e.ManagerId is not NULL AND \n",
    "e.ManagerId = m.Id AND e.Salary > m.Salary;"
   ]
  },
  {
   "cell_type": "code",
   "execution_count": null,
   "metadata": {},
   "outputs": [],
   "source": [
    "# 182 Duplicate Emails\n",
    "SELECT Email\n",
    "FROM Person\n",
    "GROUP BY Email \n",
    "HAVING COUNT(*)>1;"
   ]
  },
  {
   "cell_type": "code",
   "execution_count": null,
   "metadata": {},
   "outputs": [],
   "source": [
    "# 183 Customers Who Never Order\n",
    "SELECT A.Name FROM Customers A\n",
    "Where NOT EXISTS (SELECT 1 FROM Orders B WHERE A.Id = B.CustomerId);\n",
    "\n",
    "# \n",
    "SELECT A.Name FROM Customers A\n",
    "LEFT JOIN Orders B on A.Id = B.CustomerId\n",
    "WHERE B.CustomerId is NULL;\n",
    "\n",
    "#\n",
    "SELECT A.Name FROM Customers A\n",
    "WHERE A.Id NOT IN (SELECT B.CustomerId FROM Orders B);"
   ]
  },
  {
   "cell_type": "code",
   "execution_count": null,
   "metadata": {},
   "outputs": [],
   "source": [
    "# 184 Department Highest Salary \n",
    "SELECT dep.Name AS Department, emp.Name AS Employee, emp.Salary\n",
    "FROM Employee emp, Department dep\n",
    "WHERE emp.DepartmentId = dep.Id\n",
    "AND \n",
    "(\n",
    "emp.Salary = \n",
    "(SELECT MAX(e2.Salary) FROM Employee e2 WHERE e2.DepartmentId = dep.Id)\n",
    ");\n",
    "\n",
    "# Answer 2\n",
    "SELECT D.Name AS Department, E.Name AS Employee, E.Salary \n",
    "FROM \n",
    "    Employee E,\n",
    "    (SELECT DepartmentId, Max(Salary) AS max FROM Employee GROUP BY DepartmentId) T,\n",
    "    Deparment D\n",
    "WHERE E.DepartmentId = T.DepartmentId\n",
    "AND E.Salary = T.max\n",
    "AND D.Id = T.Department;"
   ]
  },
  {
   "cell_type": "code",
   "execution_count": null,
   "metadata": {},
   "outputs": [],
   "source": [
    "# 185 Department Top Three Salaries \n",
    "SELECT D.Name AS Department, E.Name AS Employee, E.Salary\n",
    "FROM Department D, Employee E, Employee E2\n",
    "WHERE D.Id = E.DepartmentId AND E.DepartmentId = E2.DepartmentId\n",
    "AND E.Salary <= E2.Salary\n",
    "GROUP BY D.Id, E.Name HAVING COUNT(DISTINCT E2.Salary) <=3\n",
    "ORDER BY D.Name, E.Salary DESC;\n",
    "\n",
    "# Answer 2\n",
    "SELECT tb2.Name AS Department, tb1.Name AS Employee, tb1.Salary\n",
    "FROM Employee AS tb1\n",
    "INNER JOIN Department AS tb2\n",
    "ON tb1.DepartmentId = tb2.Id\n",
    "WHERE (SELECT COUNT(DISTINCT Salary) \n",
    "       FROM Employee AS tb3 \n",
    "       WHERE tb1.DepartmentId = tb3.DepartmentId AND tb1.Salary < tb3.Salary) < 3;"
   ]
  },
  {
   "cell_type": "code",
   "execution_count": null,
   "metadata": {},
   "outputs": [],
   "source": [
    "# 595 Big Countries \n",
    "SELECT name, population, area\n",
    "FROM world\n",
    "WHERE area > 3000000 OR population > 25000000;"
   ]
  },
  {
   "cell_type": "code",
   "execution_count": null,
   "metadata": {},
   "outputs": [],
   "source": [
    "# 196 Delete Duplicate Emails \n",
    "DELECT p1\n",
    "FROM Person p1, Person p2\n",
    "WHERE p1.Email = p2.Email AND \n",
    "p1.Id > p2.Id;"
   ]
  },
  {
   "cell_type": "code",
   "execution_count": null,
   "metadata": {},
   "outputs": [],
   "source": [
    "# 626 Exchange Seats \n",
    "SELECT\n",
    "    CASE \n",
    "        WHEN seat.id % 2 <> 0 AND seat.id = (SELECT COUNT(*) FROM seat) THEN seat.id\n",
    "        WHEN seat.id % 2 = 0 THEN seat.id - 1\n",
    "        ELSE seat.id + 1\n",
    "    END AS id, student \n",
    "FROM seat\n",
    "ORDER BY id;\n"
   ]
  },
  {
   "cell_type": "code",
   "execution_count": null,
   "metadata": {},
   "outputs": [],
   "source": [
    "# 569 Median Employee Salary\n",
    "SELECT e1.Id, e1.Company, e1.Salary\n",
    "FROM Employee e1\n",
    "GROUP BY Company\n",
    "HAVING abs(SELECT COUNT(*) FROM Employee WHERE Salary > e1.Salary - SELECT COUNT(*) FROM Employee WHERE Salary < e1.Salary) < 1 # this is a wrong anwer \n",
    "\n",
    "# right answer below\n",
    "SELECT Id, Company, Salary\n",
    "FROM Employee e1\n",
    "WHERE abs((SELECT COUNT(*) FROM Employee e2 WHERE e1.Company = e2.Company AND e2.Salary >= e1.Salary) - \n",
    "          (SELECT COUNT(*) FROM Employee e3 WHERE e3.Company = e1. Company AND e3.Salary <= e1.Salary)) <= 1;"
   ]
  },
  {
   "cell_type": "code",
   "execution_count": null,
   "metadata": {},
   "outputs": [],
   "source": [
    "# 615 Average Salary: Departments vs Company \n",
    "SELECT d1.pay_month, d1.department_id, \n",
    "CASE WHEN d1.department_avg > c1.company_avg THEN 'higher'\n",
    "     WHEN d1.department_avg = c1.company_avg THEN 'same'\n",
    "     ELSE 'same'\n",
    "END AS 'comparison'\n",
    "FROM \n",
    "((SELECT LEFT(s1.pay_date, 7) pay_month, e1.department_id, AVG(s1.amount) FROM salary s1 JOIN employee e1 ON s1.employee_id = e1.employee_id GROUP BY pay_month, e1.department_id) d1\n",
    " LEFT JOIN (SELECT LEFT(pay_date, 7) pay_month, AVG(amount) company_avg FROM salary GROUP BY pay_month) c1 ON d1.pay_month = c1.pay_month)\n",
    "GROUP BY pay_month DESC, department_id;\n"
   ]
  },
  {
   "cell_type": "code",
   "execution_count": null,
   "metadata": {},
   "outputs": [],
   "source": [
    "# 570 Managers with at least 5 direct reports \n",
    "SELECT e1.Name \n",
    "FROM Employee e1 \n",
    "LEFT JOIN Employee e2\n",
    "ON e1.Id = e2.ManagerId\n",
    "GROUP BY e1.ManagerId\n",
    "Having COUNT(e1.Id) >= 5; # this is my answer, might be wrong \n",
    "\n",
    "# this is the more clear answer\n",
    "SELECT Name \n",
    "FROM Employee e1 JOIN\n",
    "(SELECT ManagerId FROM Employee e2 GROUP BY ManagerId Having COUNT(ManagerId) >= 5) m1\n",
    "ON e1.Id = m1.ManagerId;"
   ]
  },
  {
   "cell_type": "code",
   "execution_count": null,
   "metadata": {},
   "outputs": [],
   "source": [
    "# 597 Friend requests 1: overall acceptance rate\n",
    "SELECT (SELECT COUNT(DISTINCT *) \n",
    "FROM request_accetpted r1, friend_request f1\n",
    "WHERE r1.requester_id = f1.sender_id AND r1.accepter_id = f1.send_to_id)/COUNT(*) accept_rate\n",
    "FROM friend_request; # this is my answer, might be wrong\n",
    "\n",
    "# here is a more clear solution\n",
    "SELECT IFNULL(ROUND(COUNT(DISTINCT requester_id, accepter_id) / COUNT(DISTINCT sender_id, send_to_id), 2), 0) AS accept_rate\n",
    "FROM request_accepted, friend_request\n"
   ]
  },
  {
   "cell_type": "code",
   "execution_count": null,
   "metadata": {},
   "outputs": [],
   "source": [
    "# 574 Winning Candidate\n",
    "SELECT Name \n",
    "FROM Candidate c\n",
    "JOIN \n",
    "(SELECT DISTINCT CandidatedId \n",
    "FROM Vote \n",
    "GROUP BY CandidateId\n",
    "ORDER BY COUNT(CandidateId) DESC LIMIT 1) AS c1\n",
    "ON c.id = c1.CandidateId\n",
    "\n",
    "# this is the answer, i am not sure if it's right \n",
    "SELECT Name AS 'Name'\n",
    "FROM Candidate c\n",
    "JOIN \n",
    "(SELECT CandidateId\n",
    "FROM Vote\n",
    "GROUP BY CandidatedId\n",
    "ORDER BY COUNT(*) DESC \n",
    "LIMIT 1) c1\n",
    "WHERE c.id = c1.CandidateId\n"
   ]
  },
  {
   "cell_type": "code",
   "execution_count": null,
   "metadata": {},
   "outputs": [],
   "source": [
    "# 579 Find Cumulative Salary of an Employee\n",
    "SELECT \n",
    "    a.id,\n",
    "    a.month,\n",
    "    SUM(b.salary) Salary\n",
    "FROM \n",
    "    Employee a JOIN Employee b ON\n",
    "    a.id = b.id AND \n",
    "    a.month - b.month >= 0 AND\n",
    "    a.month - b.month < 3\n",
    "GROUP BY \n",
    "    a.id, a.month\n",
    "HAVING (a.id, a.month) NOT IN (SELECT id, MAX(month) FROM Employee GROUP BY id)\n",
    "ORDER BY \n",
    "    a.id, a.month DESC\n",
    "    "
   ]
  },
  {
   "cell_type": "code",
   "execution_count": null,
   "metadata": {},
   "outputs": [],
   "source": [
    "# 197 Rising Temperature\n",
    "SELECT wt1.Id\n",
    "FROM Weather wt1, Weather wt2\n",
    "WHERE wt1.Temperature > wt2.Temperature AND TO_DAYS(wt1.RecordDate) = TO_DAYS(wt2.RecordDate) + 1;"
   ]
  },
  {
   "cell_type": "code",
   "execution_count": null,
   "metadata": {},
   "outputs": [],
   "source": [
    "# 262 Trips and Users\n",
    "SELECT Request_at AS Day,\n",
    "       ROUND(SUM(CASE WHEN States LIKE 'cancelled%' THEN 1 ELSE 0 END)/COUNT(*),2) AS 'Cancellation Rate'\n",
    "FROM(\n",
    "    SELECT * FROM Trips t\n",
    "    WHERE\n",
    "         t.Client_Id NOT IN (SELECT Users_Id FROM Users WHERE Banned = 'Yes') AND\n",
    "         t.Driver_Id NOT IN (SELECT Users_Id FROM Users WHERE Banned = 'Yes') AND\n",
    "         t.Request_at BETWEEN '2013-10-01' AND '2013-10-03'\n",
    "    ) AS newT\n",
    "GROUP BY Request_at;"
   ]
  },
  {
   "cell_type": "code",
   "execution_count": 7,
   "metadata": {},
   "outputs": [
    {
     "name": "stdout",
     "output_type": "stream",
     "text": [
      "2\n",
      "3\n"
     ]
    }
   ],
   "source": [
    "chars = ['a','a','b','b','b']\n",
    "unique = set(chars)\n",
    "unique\n",
    "for i in unique:\n",
    "    print(str(chars.count(i)))"
   ]
  },
  {
   "cell_type": "code",
   "execution_count": 4,
   "metadata": {},
   "outputs": [
    {
     "name": "stdout",
     "output_type": "stream",
     "text": [
      "aabbb\n"
     ]
    }
   ],
   "source": [
    "chars = ['aabbb']\n",
    "unique = set(chars)\n",
    "unique\n",
    "for i in unique:\n",
    "    print(i)"
   ]
  },
  {
   "cell_type": "code",
   "execution_count": 10,
   "metadata": {},
   "outputs": [],
   "source": [
    "def compress(chars):\n",
    "    unique = set(chars)\n",
    "    string = ''\n",
    "    for i in unique:\n",
    "        if str(chars.count(i)) == '1':\n",
    "            string = string + str(i)\n",
    "        else:\n",
    "            string = string + str(i) + str(chars.count(i))\n",
    "    result = list(string)\n",
    "    print(result)\n",
    "    return len(result)"
   ]
  },
  {
   "cell_type": "code",
   "execution_count": 11,
   "metadata": {},
   "outputs": [
    {
     "name": "stdout",
     "output_type": "stream",
     "text": [
      "['a', '2', 'b', '3']\n"
     ]
    },
    {
     "data": {
      "text/plain": [
       "4"
      ]
     },
     "execution_count": 11,
     "metadata": {},
     "output_type": "execute_result"
    }
   ],
   "source": [
    "compress(['a','a','b','b','b'])"
   ]
  },
  {
   "cell_type": "code",
   "execution_count": 30,
   "metadata": {},
   "outputs": [],
   "source": [
    "class Solution:\n",
    "    def compress(chars) -> int:\n",
    "        unique = set(chars)\n",
    "        string = ''\n",
    "        for i in unique:\n",
    "            if str(chars.count(i)) == '1':\n",
    "                string = string + (str(i))\n",
    "            else:\n",
    "                string = string + str(i)+ str(chars.count(i))\n",
    "        \n",
    "        result = list(string)\n",
    "        return len(result)"
   ]
  },
  {
   "cell_type": "code",
   "execution_count": 32,
   "metadata": {},
   "outputs": [
    {
     "data": {
      "text/plain": [
       "4"
      ]
     },
     "execution_count": 32,
     "metadata": {},
     "output_type": "execute_result"
    }
   ],
   "source": [
    "Solution.compress(chars = ['a','a','b','b','b'])"
   ]
  },
  {
   "cell_type": "code",
   "execution_count": null,
   "metadata": {},
   "outputs": [],
   "source": [
    "# 571 Find Median Given Frequency of Numbers\n",
    "SELECT AVG(n.Number) median \n",
    "FROM Numbers n\n",
    "WHERE n.Frequency >= ABS((SELECT SUM(Frequency) FROM Numbers WHERE Number>=n.Number) - (SELECT SUM(Frequency) FROM Numbers WHERE Number <= n.Nnumber));"
   ]
  },
  {
   "cell_type": "code",
   "execution_count": null,
   "metadata": {},
   "outputs": [],
   "source": [
    "# 577 Employee Bonus\n",
    "SELECT name, bonus \n",
    "FROM \n",
    "Employee LEFT JOIN Bonus \n",
    "ON Employee.empId = Bonus.empId\n",
    "WHERE Bonus.bonus < 1000 OR bouns IS NULL;"
   ]
  },
  {
   "cell_type": "code",
   "execution_count": null,
   "metadata": {},
   "outputs": [],
   "source": [
    "# 578 Get Highest Answer Rate Question\n",
    "SELECT question_id AS survey_log\n",
    "FROM \n",
    "(\n",
    "SELECT question_id, SUM(CASE WHEN action = 'show' THEN 1 ELSE 0 END) AS num_show,\n",
    "SUM(CASE WHEN action = 'answer' THEN 1 ELSE 0 END) AS num_anwer\n",
    "FROM survey_log\n",
    "GROUP BY question_id) AS tbl\n",
    "ORDER BY (num_answer/num_show) DESC LIMIT 1;"
   ]
  },
  {
   "cell_type": "code",
   "execution_count": null,
   "metadata": {},
   "outputs": [],
   "source": [
    "# 580 Count Student Number in Department\n",
    "SELECT d.dept_name, COUNT(s.student_id) AS student_number\n",
    "FROM student s RIGHT JOIN department d ON s.dept_id = d.dept_id\n",
    "GROUP BY d.dept_name\n",
    "ORDER BY student_name DESC. d.dept_name;\n",
    "\n",
    "# The output need Law, so we use RIGHT JOIN here. "
   ]
  },
  {
   "cell_type": "code",
   "execution_count": null,
   "metadata": {},
   "outputs": [],
   "source": [
    "# 584 Find Customer Referee\n",
    "SELECT name \n",
    "FROM customer\n",
    "WHERE referee_id <> 2 OR referee_id IS NULL;"
   ]
  },
  {
   "cell_type": "code",
   "execution_count": null,
   "metadata": {},
   "outputs": [],
   "source": [
    "# 585 Investments in 2016\n",
    "SELECT SUM(TIV_2016) TIV_2016 FROM insurance a\n",
    "WHERE 1 = (SELECT COUNT(*) FROM insurance b WHERE a.LAT = b.LAT AND a.LON = b.LON)\n",
    "AND (SELECT COUNT(*) FROM insurance c WHERE a.TIV_2015 = c.TIV_2015) > 1 ;"
   ]
  },
  {
   "cell_type": "code",
   "execution_count": null,
   "metadata": {},
   "outputs": [],
   "source": [
    "# 586 Customer Placing the Largest Number of Orders\n",
    "SELECT customer_number FROM orders\n",
    "GROUY BY customer_number\n",
    "ORDER BY count(*) DESC LIMIT 1;"
   ]
  },
  {
   "cell_type": "code",
   "execution_count": null,
   "metadata": {},
   "outputs": [],
   "source": [
    "# 596 Classes More Than 5 Students\n",
    "SELECT class FROM cousrses\n",
    "GROUP BY class HAVING COUNT(DISTINCTstudent) >= 5;"
   ]
  },
  {
   "cell_type": "code",
   "execution_count": null,
   "metadata": {},
   "outputs": [],
   "source": [
    "# 601 Human Traffic of Stadium\n",
    "SELECT s1.* FROM stadium AS s1, stadium AS s2, stadium AS s3\n",
    "WHERE \n",
    "((s1.id+1=s2.id\n",
    " AND s1.id +2 = s3.id)\n",
    " OR \n",
    " (s1.id-1 = s2.id\n",
    " AND s1.id + 1 = s3.id)\n",
    " OR \n",
    " (s1.id - 1 = s2.id AND s1.id -2 = s3.id)\n",
    ")\n",
    "AND s1.people > 100\n",
    "AND s2.people > 100\n",
    "AND s3.people > 100\n",
    "GROUP BY s1.id;"
   ]
  },
  {
   "cell_type": "code",
   "execution_count": null,
   "metadata": {},
   "outputs": [],
   "source": [
    "# 602 Friend Requests 2: Who Has the Most Friends\n",
    "SELECT id1 AS id, COUNT(id2) AS num\n",
    "FROM \n",
    "(SELECT requester_id AS id1, accepter_id AS id2 FROM request_accepted\n",
    "union\n",
    "SELECT accepter_id AS id1, requester_id AS id2\n",
    "FROM request_accepted) tmp1\n",
    "GROUP BY id1\n",
    "ORDER BY num DESC LIMIT 1;"
   ]
  },
  {
   "cell_type": "code",
   "execution_count": null,
   "metadata": {},
   "outputs": [],
   "source": [
    "# 607 Sales Person\n",
    "SELECT salesperson.name \n",
    "FROM orders o JOIN company c ON (o.com_id = c.com_id AND c.name = 'RED')\n",
    "RIGHT JOIN salesperson on salesperson.sales_id = o.sales_id\n",
    "WHERE o.sales_id IS NULL;"
   ]
  },
  {
   "cell_type": "code",
   "execution_count": null,
   "metadata": {},
   "outputs": [],
   "source": [
    "# 612 Shortest Distance in a Plane\n",
    "SELECT ROUND(SQRT(MIN(POW(a.x-b.x,2)+POW(a.y-b.y,2))),2) shortest\n",
    "FROM point_2d a, point_ad b\n",
    "WHERE (a.x, a.y) != (b.x, b.y);"
   ]
  },
  {
   "cell_type": "code",
   "execution_count": null,
   "metadata": {},
   "outputs": [],
   "source": [
    "# 613 Shortest Distance in a Line\n",
    "SELECT MIN(ABS(a.x - b.x)) shortest \n",
    "FROM point a, point b\n",
    "WHERE a.x <> b.x\n",
    "\n",
    "#\n",
    "SELECT MIN(ABS(p1.x - p2.x)) AS shortest\n",
    "FROM point AS p1\n",
    "JOIN point AS p2\n",
    "ON p1.x <> p2.x;"
   ]
  },
  {
   "cell_type": "code",
   "execution_count": null,
   "metadata": {},
   "outputs": [],
   "source": [
    "# 614 Second Degree Follower\n",
    "SELECT DISTINCT follower, num\n",
    "FROM follow,\n",
    "(SELECT followee, COUNT(DISTINCT follower) AS num FROM follow\n",
    "GROUP BY followee) AS t\n",
    "WHERE follower = t.followee\n",
    "ORDER BY follower;\n",
    "\n",
    "# \n",
    "SELECT f1.follower, COUNT(DISTINCT f2.follower)\n",
    "FROM follow f1\n",
    "JOIN follow f2\n",
    "ON f1.follower = f2.followee\n",
    "GROUP BY f1.follower\n",
    "ORDER BY f1.follower;"
   ]
  },
  {
   "cell_type": "code",
   "execution_count": null,
   "metadata": {},
   "outputs": [],
   "source": [
    "# 618 Students Report By Geography\n",
    "SELECT MAX(America) AS America, MAX(Asia) AS Asia, MAX(Europe) AS Europe\n",
    "FROM (\n",
    "      SELECT \n",
    "            CASE WHEN continent = 'America' THEN @r1 := @r1 + 1\n",
    "                 WHEN continent = 'Asia' THEN @r2 := @r2 +1\n",
    "                 WHEN continent = 'Europe' THEN @r3 := @r3 +1 END id,\n",
    "            CASE WHEN continent = 'America' THEN name ELSE NULL END America,\n",
    "            CASE WHEN continent = 'Asia' THEN name ELSE NULL END Asia,\n",
    "            CASE WHEN continent = 'Europe' THEN name ELSE NULL END Europe\n",
    "      FROM student, (SELECT @r1 :=0, @r2 :=0, @r3 :=0) AS ids\n",
    "      ORDER BY name\n",
    ") AS tempTable\n",
    "GROUP BY id;"
   ]
  },
  {
   "cell_type": "code",
   "execution_count": null,
   "metadata": {},
   "outputs": [],
   "source": [
    "# 619 Biggest Single Number\n",
    "SELECT num as num\n",
    "FROM number\n",
    "GROUP BY num\n",
    "HAVING COUNT(*) = 1\n",
    "ORDER BY num DESC LIMIT 1;"
   ]
  },
  {
   "cell_type": "code",
   "execution_count": null,
   "metadata": {},
   "outputs": [],
   "source": [
    "# 620 Not Boring Movies\n",
    "SELECT *\n",
    "FROM cinema \n",
    "WHERE (id % 2 = 1) AND (description <> 'boring')\n",
    "ORDER BY rating DESC;"
   ]
  },
  {
   "cell_type": "code",
   "execution_count": null,
   "metadata": {},
   "outputs": [],
   "source": [
    "# 627 Swap Salary\n",
    "UPDATE salary SET sex = CHAR(ASCII('f')^ASCII('m')^ASCII('sex'));\n",
    "\n",
    "#\n",
    "UPDATE salary SET sex = CHAR(ASCI('f') + ASCII('m') - ASCII(sex));"
   ]
  },
  {
   "cell_type": "code",
   "execution_count": 1,
   "metadata": {},
   "outputs": [
    {
     "name": "stdout",
     "output_type": "stream",
     "text": [
      "75000.0\n"
     ]
    }
   ],
   "source": [
    "t = 3000000/40\n",
    "print(t)"
   ]
  },
  {
   "cell_type": "code",
   "execution_count": 2,
   "metadata": {},
   "outputs": [
    {
     "name": "stdout",
     "output_type": "stream",
     "text": [
      "205.4794520547945\n"
     ]
    }
   ],
   "source": [
    "y = 75000/365\n",
    "print(y)"
   ]
  },
  {
   "cell_type": "code",
   "execution_count": 4,
   "metadata": {},
   "outputs": [
    {
     "name": "stdout",
     "output_type": "stream",
     "text": [
      "27.397260273972602\n"
     ]
    }
   ],
   "source": [
    "t = 3000000/300/365\n",
    "print(t)"
   ]
  },
  {
   "cell_type": "code",
   "execution_count": 5,
   "metadata": {},
   "outputs": [
    {
     "name": "stdout",
     "output_type": "stream",
     "text": [
      "1643.835616438356\n"
     ]
    }
   ],
   "source": [
    "t = 3000000/365/5\n",
    "print(t)"
   ]
  },
  {
   "cell_type": "code",
   "execution_count": null,
   "metadata": {},
   "outputs": [],
   "source": [
    "Tables\n",
    "1: Users   \n",
    "user_id | install_date | channel (paid/organic)\n",
    "2: Revenue --- records each subscription\n",
    "         user_id | calender_date | revenue\n",
    "3: Events --- records each instance of user actions (each time user sings, each time user is active)\n",
    "         user_id | calender_date | event_name(singing,active_user) | timestamp"
   ]
  },
  {
   "cell_type": "code",
   "execution_count": null,
   "metadata": {},
   "outputs": [],
   "source": [
    "Q1: how many users  installed?\n",
    "\n",
    "SELECT\n",
    "COUNT(DISTINCT user_id) AS total_users\n",
    "FROM\n",
    "Users\n",
    "WHERE\n",
    "install_date IS NOT NULL"
   ]
  },
  {
   "cell_type": "code",
   "execution_count": null,
   "metadata": {},
   "outputs": [],
   "source": [
    "Q2: what proportion came through paid channels?\n",
    "SELECT \n",
    "SUM(CASE WHEN channel = 'paid' THEN 1 ELSE 0 END)/COUNT(*) AS paid_ratio\n",
    "FROM \n",
    "Users\n",
    "WHERE \n",
    "install_date is NOT NULL\n",
    "\n",
    "OR\n",
    "\n",
    "Select Round(count(distinct user_id) *100 /(select count(distinct user_id) from users),2)\n",
    "From users\n",
    "Where channel=’Paid’"
   ]
  },
  {
   "cell_type": "code",
   "execution_count": null,
   "metadata": {},
   "outputs": [],
   "source": [
    "Q3: What was the average revenue per user generated between the day a user installed and seven days later (Day 8 Revenue per User)?  e.g. 1000 installs, $500 revenue, $0.50 RPU\n",
    "WITH New_t AS (\n",
    "SELECT\n",
    "User_id, install_date, calender_date, revenue\n",
    "FROM\n",
    "Users U\n",
    "JOIN        Revenue R ON U.user_id = R.user_id\n",
    "WHERE\n",
    "Calender_date < = date_add(install_date, INTERVAL 7 DAY) )\n",
    "\n",
    "SELECT User_id, AVG(revenue) AS avg_rvnue\n",
    "FROM \n",
    "New_t\n",
    "GROUP BY\n",
    "User_id"
   ]
  },
  {
   "cell_type": "code",
   "execution_count": null,
   "metadata": {},
   "outputs": [],
   "source": [
    "Q4: Calculate Day 2 retention based on the number of times a user sang on Day 1?\n",
    "\n",
    "WITH new_t AS (\n",
    "SELECT\n",
    "User_id\n",
    ", MIN(Calender_date) AS first_day\n",
    "FROM\n",
    "Events\n",
    "WHERE\n",
    "Event_name = ‘singing’\n",
    "GROUP BY\n",
    "user_id)\n",
    ",\n",
    "Return_user AS\n",
    "(SELECT\n",
    "user_id\n",
    "FROM\n",
    "Events E1\n",
    "JOIN\n",
    "new_t  ON (E1.user_id = new_t.user_id AND new_t.first_day + 1 = E1.canlender_date))\n",
    "\n",
    "SELECT\n",
    "ROUND(COUNT(return_user.user_id)/COUNT(new_t.user_id),2) AS retention_rate\n",
    "FROM\n",
    "New_t\n",
    "LEFT JOIN\n",
    "Return_user ON return_user.user_id = new_t.user_id"
   ]
  },
  {
   "cell_type": "code",
   "execution_count": null,
   "metadata": {},
   "outputs": [],
   "source": [
    "FB 经典题目！\n",
    "有个table,有content_id, content_type,target_id  其中content_type有post,comment,like,photo等, target_id 是comment 对应的post_id(for example comment 对应的post_id)   \n",
    "Q1: 求最多comment的post 的id\n",
    "\n",
    "SELECT Target_id\n",
    "FROM\n",
    "(\n",
    "SELET Target_id, RANK()\n",
    "OVER \n",
    "(ORDER BY COUNT(content_id) DESC) \n",
    "AS rank_list\n",
    "FROM \n",
    "Table \n",
    "WHERE \n",
    "Content_type = 'comment'\n",
    ") AS rank_table\n",
    "WHERE \n",
    "Rank_list = 1\n",
    "\n",
    "Q2:求comment数目的分布\n",
    "\n",
    "WITH comment_table AS (\n",
    "SELECT \n",
    "Content_id, COUNT(Content_type) AS comment\n",
    "FROM \n",
    "Table \n",
    "WHERE\n",
    "Content_type = 'comment'\n",
    "GROUP BY Content_id)\n",
    "\n",
    "SELECT \n",
    "Comment, COUNT(content_id) AS cnt\n",
    "FROM \n",
    "Comment_table\n",
    "GROUP BY \n",
    "Commment\n",
    "COUNT(content_id);\n",
    "\n",
    "Q3: What is the total number of comments and total number of posts\n",
    "SELECT \n",
    "SUM(IF(content_type = 'comment',1,0)) AS total_comment, SUM(IF(content_type='post', 1, 0)AS total_post)\n",
    "FROM Table;"
   ]
  },
  {
   "cell_type": "code",
   "execution_count": null,
   "metadata": {},
   "outputs": [],
   "source": [
    "FB 经典题目！\n",
    "Table Friend:   Date | Action (‘sent’, ‘accept’, ‘unfriend’) | User_id   | Target_id\n",
    "如何判断两个人是不是好朋友. (Target user’s action is accepted)\n",
    "\n",
    "SELECT F1.User_id, F1.Target.id,\n",
    "CASE WHEN accepter_table.action = 'accept' AND sender_table.action = 'sent' THEN 'yes'\n",
    "ELSE 'no' END AS friends\n",
    "FROM \n",
    "Friend AS sender_table\n",
    "LEFT JOIN Friend AS accept_table ON accept_table.User_id = sender_table.Target_id;\n",
    "\n",
    "generate friend request acceptance rate (a: Create the table for calculation, b: calculate acceptance rate)\n",
    "SELECT ROUND(COUNT(accepter_table.User_id)/COUNT(sender_table.User_id),2) AS acceptance_rate\n",
    "FROM \n",
    "Friend AS sender_table\n",
    "LEFT JOIN \n",
    "Friends AS accepter_table ON sender_table.Target_id = accepter_table.User_id;\n",
    "\n",
    "Generate the friend request acceptance rate for people who accept within 24 hours\n",
    "SELECT\n",
    "  ROUND( COUNT(accepter_table.User_id)/COUNT(sender_table.User_id),2) AS acceptence_rate\n",
    "FROM\n",
    "Friend AS sender_table\n",
    "LEFT JOIN\n",
    "           Friend AS accepter_table\n",
    "ON (accepter_table.User_id = sender_table.Target_id AND DATE_ADD('hour', 24, sender_table.date) <= accepter_table.date AND accept_table.date > sender_table.date"
   ]
  },
  {
   "cell_type": "code",
   "execution_count": null,
   "metadata": {},
   "outputs": [],
   "source": [
    "Instagram NBA Follower\n",
    "Table 1 (stars_category) [name,sports category] t1中只有celebrity运动员。pk=user_name\n",
    "Table 2 (instgram_users) [user id, user_name, registration_date] t(2中是所有人的用户信息，包括celebrity和普通人，且不会出现celebrity和普通人重名的情况（重要假设）。pk=user_id\n",
    "Table 3 (followee_follower) user_id, user_id_following, follow_date] 用户follow信息，注意user_id_following中包括celebrity和普通人\n",
    "                                                                   \n",
    "Q1:求每个category的follower/计算每个category有多少人follow\n",
    "\n",
    "SELECT\n",
    "Category\n",
    "          , COUNT(ff.user_id)\n",
    "FROM\n",
    "(SELECT\n",
    "  User_id\n",
    "           , Category\n",
    "  FROM\n",
    "  Instgram_users iu\n",
    "  LEFT JOIN stars_category sc ON sc.name = iu.user_name) as table_a\n",
    "JOIN\n",
    "Followee_follower ON table_a.user_id = ff.user_id_following\n",
    "GROUP BY\n",
    "Category\n",
    "\n",
    "Q2: 求有多少个NBA category follow NFL . check 1point3acres for more.\n",
    "\n",
    "WITH NFL AS (SELECT\n",
    "user_id\n",
    "FROM\n",
    "Instgram_users iu\n",
    "JOIN\n",
    "Starts_category sc ON iu.user_name = sc.name\n",
    "WHERE\n",
    "Category = ‘NFL’)\n",
    "\n",
    "SELECT\n",
    "          COUNT(iu.user_id) AS total_NBA\n",
    "FROM\n",
    "Instgram_users iu\n",
    "JOIN\n",
    "stars_category sc ON sc.name = iu.user_name\n",
    "JOIN\n",
    "Followee_follower ON iu.user_id = ff.user_id\n",
    "JOIN. 1point3acres\n",
    "NFL ON NFL.user_id = ff.user_id_following\n",
    "WHERE\n",
    "Category = ‘NBA’\n",
    "                                                                   \n",
    "table  member_id|company_name|year_start    note: table is employee info  table\n",
    "Q1: count members who ever moved from Microsoft to Google?\n",
    "SELECT\n",
    "COUNT(Member_id) AS total_count\n",
    "FROM\n",
    "Table AS T1\n",
    "JOIN\n",
    "Table AS T2\n",
    "ON        (T1.member_id = T2.member_id\n",
    "AND   T1. year_start < T2.year_start)\n",
    ". From 1point 3acres bbs\n",
    "WHERE-baidu 1point3acres\n",
    "T1.company_name = ‘Microsoft’\n",
    "AND   T2.company_name = ‘Google’\n",
    ";\n",
    "                                                                   \n",
    "\n",
    "Q2:  count members who directly moved from Microsoft to Google? (Microsoft -- linkedin -- Google doesn't count)\n",
    "\n",
    "WITH rnk_table AS (\n",
    "SELECT\n",
    "   *. check 1point3acres for more.\n",
    ", RANK()OVER(PARTITION BY member_id ORDER BY year_start ASC) AS rnk_index\n",
    "FROM\n",
    "Table)\n",
    "\n",
    "SELECT\n",
    "COUNT(member_id) AS total_count\n",
    "FROM\n",
    "rnk_table T1\n",
    "JOIN\n",
    "Rnk_table T2 AS T2\n",
    "ON         (T1.member_id = T2.member_id\n",
    "AND         T2.rnk_index = T1.rnk_index + 1)-baidu 1point3acres\n",
    "WHERE\n",
    "T1.company_name = ‘Microsoft’\n",
    "AND   T2.company_name = ‘Google’\n",
    ";                                                                 \n",
    "                                                                   "
   ]
  }
 ],
 "metadata": {
  "kernelspec": {
   "display_name": "Python 3",
   "language": "python",
   "name": "python3"
  },
  "language_info": {
   "codemirror_mode": {
    "name": "ipython",
    "version": 3
   },
   "file_extension": ".py",
   "mimetype": "text/x-python",
   "name": "python",
   "nbconvert_exporter": "python",
   "pygments_lexer": "ipython3",
   "version": "3.7.7"
  }
 },
 "nbformat": 4,
 "nbformat_minor": 4
}
